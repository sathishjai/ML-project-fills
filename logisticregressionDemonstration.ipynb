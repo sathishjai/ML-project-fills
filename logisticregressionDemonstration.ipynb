{
 "cells": [
  {
   "cell_type": "code",
   "execution_count": 2,
   "id": "ffa57c70-f067-451c-bc3f-2069334fbd66",
   "metadata": {},
   "outputs": [],
   "source": [
    "import numpy as np\n",
    "import pandas as pd\n",
    "import matplotlib.pyplot as plt\n",
    "import seaborn as sns\n",
    "sns.set()\n",
    "from sklearn.model_selection import train_test_split\n",
    "from sklearn.linear_model import LinearRegression\n",
    "from sklearn.metrics import mean_squared_error,r2_score"
   ]
  },
  {
   "cell_type": "code",
   "execution_count": null,
   "id": "ea454aa0-c484-4feb-9136-e29e61408d02",
   "metadata": {},
   "outputs": [],
   "source": [
    "# Load the Datafrom CSV\n",
    "df=pd.read_csv(\"/home/sathish/Downloads/cleaned_file.csv\")\n"
   ]
  },
  {
   "cell_type": "code",
   "execution_count": null,
   "id": "dc968988-9b61-42b6-a0ca-cc2d9412dee8",
   "metadata": {},
   "outputs": [],
   "source": [
    "data=df.copy()\n",
    "data['Admitted']=data['Admitted'].map({'Yes':1,'No':0})\n",
    "data['Gender']=data['Gender'].map({'Yes':1,'No':0})\n",
    "data"
   ]
  },
  {
   "cell_type": "code",
   "execution_count": null,
   "id": "df56166d-a3a5-472c-b171-b47abd2f9272",
   "metadata": {},
   "outputs": [],
   "source": [
    "y=data['Admitted']\n",
    "x1=data[['Sat','Gender']]\n"
   ]
  },
  {
   "cell_type": "code",
   "execution_count": null,
   "id": "20c96c39-b682-491a-9388-a1d098376e84",
   "metadata": {},
   "outputs": [],
   "source": [
    "x=sm.add_constant(x1)\n",
    "reg_log=sm.logit(y,x)\n",
    "results_log=reg_log.fit()"
   ]
  },
  {
   "cell_type": "code",
   "execution_count": null,
   "id": "f165cd3b-915c-4e0c-9ad2-76d5798d047a",
   "metadata": {},
   "outputs": [],
   "source": [
    "results_log.summary()"
   ]
  },
  {
   "cell_type": "code",
   "execution_count": null,
   "id": "5101aa9e-77ea-4928-bc5a-19bae6b4ec10",
   "metadata": {},
   "outputs": [],
   "source": [
    "np.exp(1.94)"
   ]
  },
  {
   "cell_type": "code",
   "execution_count": null,
   "id": "67e91b08-f04c-458b-bc1e-158841a63ce6",
   "metadata": {},
   "outputs": [],
   "source": [
    "np.set_printoptions(formatter={'float':lambda x:\"{0:0.2f}\".format(x)})\n",
    "results_log.predict()"
   ]
  },
  {
   "cell_type": "code",
   "execution_count": null,
   "id": "83eeef08-1464-4c2f-95c0-a930cf0dd0fa",
   "metadata": {},
   "outputs": [],
   "source": [
    "np.array(data['Admitted'])"
   ]
  },
  {
   "cell_type": "code",
   "execution_count": null,
   "id": "3ee18825-c670-477c-98bf-d8d0f8910f95",
   "metadata": {},
   "outputs": [],
   "source": [
    "results_log.pred_table()"
   ]
  },
  {
   "cell_type": "code",
   "execution_count": null,
   "id": "3831ceef-6f78-417d-8998-42fe9fb6d0b1",
   "metadata": {},
   "outputs": [],
   "source": [
    "cm_df=pd.DataFrame(results_log.pred_table())\n",
    "cm_df.columns=['Predicted 0','Predicted 1']\n",
    "cm_df=cm_df.rename(index={0:'Actual 0',1:'Actual 1'})\n",
    "\n",
    "cm_df"
   ]
  },
  {
   "cell_type": "code",
   "execution_count": null,
   "id": "fd7eb0ed-8698-4bc3-b61f-7f867aea28fb",
   "metadata": {},
   "outputs": [],
   "source": [
    "cm=np.array(cm_df)\n",
    "accuracy_train=(cm[0,0]+cm[1,1])/cm.sum()\n",
    "\n",
    "accuracy_train"
   ]
  },
  {
   "cell_type": "markdown",
   "id": "1cb8404d-1e64-46ab-a659-47046141d2f7",
   "metadata": {},
   "source": [
    "## model testing"
   ]
  },
  {
   "cell_type": "code",
   "execution_count": null,
   "id": "1e2b8a6e-29fe-435e-9bb8-16108af66001",
   "metadata": {},
   "outputs": [],
   "source": [
    "test=pd.read_csv('TestDataset.csv')\n",
    "test"
   ]
  },
  {
   "cell_type": "code",
   "execution_count": null,
   "id": "cf9d29e6-8f57-4aff-b966-bad9b6b845a5",
   "metadata": {},
   "outputs": [],
   "source": [
    "test['Admitted']=test['Admitted'].map({'Yes':1,'No':0})\n",
    "test['Gender']=test['Gender'].map({'Female':1,'Male':0})\n",
    "\n",
    "test"
   ]
  },
  {
   "cell_type": "code",
   "execution_count": null,
   "id": "3c444e2e-fc7b-4837-9728-d7812699dc5d",
   "metadata": {},
   "outputs": [],
   "source": [
    "x"
   ]
  },
  {
   "cell_type": "code",
   "execution_count": null,
   "id": "8163e717-4a34-4372-919b-ac817bafb7e3",
   "metadata": {},
   "outputs": [],
   "source": [
    "test_actual=test['Admitted']\n",
    "test_data=test.drop(['Admitted'],axis=1)\n",
    "test_data=sm.add_constant(test_data)\n",
    "\n",
    "test_data"
   ]
  },
  {
   "cell_type": "code",
   "execution_count": null,
   "id": "c9accec8-52ef-44f5-9311-72d9cb7b52f0",
   "metadata": {},
   "outputs": [],
   "source": [
    "def confusion_matrix(data,actual_values,model):\n",
    "    pred_values=model.predict(data)\n",
    "    bins=np.array[0,0.5,1]\n",
    "    cm=np.histogram2d(actulal_values,pre_values,bins=bins)[0]\n",
    "    accuracy=(cm[0,0]+cm[1,1]/cm.sum()\n",
    "    return cm,accuracy"
   ]
  },
  {
   "cell_type": "code",
   "execution_count": null,
   "id": "82f909ed-e0ef-4224-bb23-53f2c3c7a976",
   "metadata": {},
   "outputs": [],
   "source": [
    "cm.confusion_matrix(test_data,test_actual,results_log)\n",
    "cm"
   ]
  },
  {
   "cell_type": "code",
   "execution_count": null,
   "id": "611f8471-13c7-409a-9574-83cbe2688a7c",
   "metadata": {},
   "outputs": [],
   "source": [
    "cm_df=pd.DataFrame(cm[0])\n",
    "cm_df.columns=['Predicted 0','Predicted 1']\n",
    "cm_df=cm_df.rename(index={0:'Actual 0',1:'Actual 1'})\n",
    "\n",
    "cm_df"
   ]
  },
  {
   "cell_type": "code",
   "execution_count": null,
   "id": "13d81197-d86f-4821-bbd7-88f08081ae10",
   "metadata": {},
   "outputs": [],
   "source": []
  },
  {
   "cell_type": "code",
   "execution_count": null,
   "id": "a09e4dc4-551c-45d8-a9a0-df45c3aa2cba",
   "metadata": {},
   "outputs": [],
   "source": []
  },
  {
   "cell_type": "code",
   "execution_count": null,
   "id": "b92aa510-ab82-4f15-93db-d5498c0a274d",
   "metadata": {},
   "outputs": [],
   "source": []
  },
  {
   "cell_type": "code",
   "execution_count": null,
   "id": "1d31901e-b06b-4e9e-89e9-b2056c52fc7d",
   "metadata": {},
   "outputs": [],
   "source": []
  },
  {
   "cell_type": "code",
   "execution_count": null,
   "id": "11189788-904c-451d-8184-328b42889be0",
   "metadata": {},
   "outputs": [],
   "source": []
  },
  {
   "cell_type": "code",
   "execution_count": null,
   "id": "29527071-722a-4c67-b805-1d873d8dd4bc",
   "metadata": {},
   "outputs": [],
   "source": []
  },
  {
   "cell_type": "code",
   "execution_count": null,
   "id": "c2561805-c78a-46c6-beb5-fa5032794fc9",
   "metadata": {},
   "outputs": [],
   "source": []
  },
  {
   "cell_type": "code",
   "execution_count": null,
   "id": "8430a64a-91ca-4f82-9aa7-62a6048f2650",
   "metadata": {},
   "outputs": [],
   "source": []
  },
  {
   "cell_type": "code",
   "execution_count": null,
   "id": "cfecbcee-f710-4be0-b4b2-356783340089",
   "metadata": {},
   "outputs": [],
   "source": []
  },
  {
   "cell_type": "code",
   "execution_count": null,
   "id": "eeceb12a-9f43-48bb-8d9d-f006440bd9e9",
   "metadata": {},
   "outputs": [],
   "source": []
  },
  {
   "cell_type": "code",
   "execution_count": null,
   "id": "666c9e2f-f1e0-43c9-b8fc-829ca487279a",
   "metadata": {},
   "outputs": [],
   "source": []
  },
  {
   "cell_type": "code",
   "execution_count": null,
   "id": "f1bbd0b2-5b61-4964-880f-360a5787024c",
   "metadata": {},
   "outputs": [],
   "source": []
  },
  {
   "cell_type": "code",
   "execution_count": null,
   "id": "e280917e-aed0-416c-8dda-d8c517a659d4",
   "metadata": {},
   "outputs": [],
   "source": []
  },
  {
   "cell_type": "code",
   "execution_count": null,
   "id": "7ccca66f-3be7-46cf-bfcd-94fc17d13b5c",
   "metadata": {},
   "outputs": [],
   "source": []
  },
  {
   "cell_type": "code",
   "execution_count": null,
   "id": "46c8ec05-7e04-487f-a24b-faafd76fdd9c",
   "metadata": {},
   "outputs": [],
   "source": []
  },
  {
   "cell_type": "code",
   "execution_count": null,
   "id": "e0b97394-f34b-4c86-ae36-34a65704b016",
   "metadata": {},
   "outputs": [],
   "source": []
  },
  {
   "cell_type": "code",
   "execution_count": null,
   "id": "f691a84e-bbda-4a64-899c-cc4c8c51290a",
   "metadata": {},
   "outputs": [],
   "source": []
  },
  {
   "cell_type": "code",
   "execution_count": null,
   "id": "8759c140-203a-4b5f-8cb0-814db29f61bd",
   "metadata": {},
   "outputs": [],
   "source": []
  }
 ],
 "metadata": {
  "kernelspec": {
   "display_name": "Python 3 (ipykernel)",
   "language": "python",
   "name": "python3"
  },
  "language_info": {
   "codemirror_mode": {
    "name": "ipython",
    "version": 3
   },
   "file_extension": ".py",
   "mimetype": "text/x-python",
   "name": "python",
   "nbconvert_exporter": "python",
   "pygments_lexer": "ipython3",
   "version": "3.10.12"
  }
 },
 "nbformat": 4,
 "nbformat_minor": 5
}
